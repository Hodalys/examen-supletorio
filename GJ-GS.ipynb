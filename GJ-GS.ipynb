{
 "cells": [
  {
   "cell_type": "code",
   "execution_count": 18,
   "metadata": {},
   "outputs": [],
   "source": [
    "%load_ext autoreload"
   ]
  },
  {
   "cell_type": "code",
   "execution_count": 19,
   "metadata": {},
   "outputs": [],
   "source": [
    "%autoreload 2"
   ]
  },
  {
   "cell_type": "code",
   "execution_count": 20,
   "metadata": {},
   "outputs": [],
   "source": [
    "from src import gauss_jacobi\n",
    "from src import gauss_seidel"
   ]
  },
  {
   "cell_type": "code",
   "execution_count": 31,
   "metadata": {},
   "outputs": [],
   "source": [
    "A = [[1, 1], [-2, 5]] \n",
    "b = [7, 0]"
   ]
  },
  {
   "cell_type": "code",
   "execution_count": 34,
   "metadata": {},
   "outputs": [
    {
     "name": "stdout",
     "output_type": "stream",
     "text": [
      "[02-20 12:59:24][INFO] i= 0 x: [[2. 5.]]\n",
      "[02-20 12:59:24][INFO] i= 1 x: [[2.  0.8]]\n",
      "[02-20 12:59:24][INFO] i= 2 x: [[6.2 0.8]]\n",
      "[02-20 12:59:24][INFO] i= 3 x: [[6.2  2.48]]\n",
      "[02-20 12:59:24][INFO] i= 4 x: [[4.52 2.48]]\n",
      "[02-20 12:59:24][INFO] i= 5 x: [[4.52  1.808]]\n",
      "[02-20 12:59:24][INFO] i= 6 x: [[5.192 1.808]]\n",
      "[02-20 12:59:24][INFO] i= 7 x: [[5.192  2.0768]]\n",
      "[02-20 12:59:24][INFO] i= 8 x: [[4.9232 2.0768]]\n",
      "[02-20 12:59:24][INFO] i= 9 x: [[4.9232  1.96928]]\n",
      "[02-20 12:59:24][INFO] i= 10 x: [[5.03072 1.96928]]\n",
      "[02-20 12:59:24][INFO] i= 11 x: [[5.03072  2.012288]]\n",
      "[02-20 12:59:24][INFO] i= 12 x: [[4.987712 2.012288]]\n",
      "[02-20 12:59:24][INFO] i= 13 x: [[4.987712  1.9950848]]\n",
      "[02-20 12:59:24][INFO] i= 14 x: [[5.0049152 1.9950848]]\n",
      "[02-20 12:59:24][INFO] i= 15 x: [[5.0049152  2.00196608]]\n",
      "[02-20 12:59:24][INFO] i= 16 x: [[4.99803392 2.00196608]]\n",
      "[02-20 12:59:24][INFO] i= 17 x: [[4.99803392 1.99921357]]\n",
      "[02-20 12:59:24][INFO] i= 18 x: [[5.00078643 1.99921357]]\n",
      "[02-20 12:59:24][INFO] i= 19 x: [[5.00078643 2.00031457]]\n"
     ]
    },
    {
     "name": "stdout",
     "output_type": "stream",
     "text": [
      "[02-20 12:59:24][INFO] i= 20 x: [[4.99968543 2.00031457]]\n",
      "[02-20 12:59:24][INFO] i= 21 x: [[4.99968543 1.99987417]]\n",
      "[02-20 12:59:24][INFO] i= 22 x: [[5.00012583 1.99987417]]\n",
      "[02-20 12:59:24][INFO] i= 23 x: [[5.00012583 2.00005033]]\n",
      "[02-20 12:59:24][INFO] i= 24 x: [[4.99994967 2.00005033]]\n",
      "Solución con Gauss-Jacobi: [4.99994967]\n"
     ]
    }
   ],
   "source": [
    "x0 = [2, 5]\n",
    "\n",
    "sol, trayec = gauss_jacobi(A=A, b=b, x0=x0, tol=1e-4, max_iter=50)\n",
    "# Mostrar los resultados\n",
    "print(\"Solución con Gauss-Jacobi:\", sol)"
   ]
  },
  {
   "cell_type": "code",
   "execution_count": 35,
   "metadata": {},
   "outputs": [
    {
     "name": "stdout",
     "output_type": "stream",
     "text": [
      "[02-20 12:59:31][INFO] i= 0 x: [[2. 5.]]\n",
      "[02-20 12:59:31][INFO] i= 1 x: [[2.  0.8]]\n",
      "[02-20 12:59:31][INFO] i= 2 x: [[6.2  2.48]]\n",
      "[02-20 12:59:31][INFO] i= 3 x: [[4.52  1.808]]\n",
      "[02-20 12:59:31][INFO] i= 4 x: [[5.192  2.0768]]\n",
      "[02-20 12:59:31][INFO] i= 5 x: [[4.9232  1.96928]]\n",
      "[02-20 12:59:31][INFO] i= 6 x: [[5.03072  2.012288]]\n",
      "[02-20 12:59:31][INFO] i= 7 x: [[4.987712  1.9950848]]\n",
      "[02-20 12:59:31][INFO] i= 8 x: [[5.0049152  2.00196608]]\n",
      "[02-20 12:59:31][INFO] i= 9 x: [[4.99803392 1.99921357]]\n"
     ]
    },
    {
     "name": "stdout",
     "output_type": "stream",
     "text": [
      "[02-20 12:59:31][INFO] i= 10 x: [[5.00078643 2.00031457]]\n",
      "[02-20 12:59:31][INFO] i= 11 x: [[4.99968543 1.99987417]]\n",
      "[02-20 12:59:31][INFO] i= 12 x: [[5.00012583 2.00005033]]\n",
      "[02-20 12:59:31][INFO] i= 13 x: [[4.99994967 1.99997987]]\n",
      "Solución con Gauss-Seidel: [5.00002013]\n"
     ]
    }
   ],
   "source": [
    "sol1, trayec1 = gauss_seidel(A=A, b=b, x0=x0, tol=1e-4, max_iter=50)\n",
    "print(\"Solución con Gauss-Seidel:\", sol1)"
   ]
  },
  {
   "cell_type": "markdown",
   "metadata": {},
   "source": [
    "### Trayectoria para el punto inicial x0 = [1,1]"
   ]
  },
  {
   "cell_type": "code",
   "execution_count": 37,
   "metadata": {},
   "outputs": [
    {
     "name": "stdout",
     "output_type": "stream",
     "text": [
      "[02-20 13:00:44][INFO] i= 0 x: [[1. 1.]]\n",
      "[02-20 13:00:44][INFO] i= 1 x: [[6.  0.4]]\n",
      "[02-20 13:00:44][INFO] i= 2 x: [[6.6 2.4]]\n",
      "[02-20 13:00:44][INFO] i= 3 x: [[4.6  2.64]]\n",
      "[02-20 13:00:44][INFO] i= 4 x: [[4.36 1.84]]\n",
      "[02-20 13:00:44][INFO] i= 5 x: [[5.16  1.744]]\n",
      "[02-20 13:00:44][INFO] i= 6 x: [[5.256 2.064]]\n",
      "[02-20 13:00:44][INFO] i= 7 x: [[4.936  2.1024]]\n",
      "[02-20 13:00:44][INFO] i= 8 x: [[4.8976 1.9744]]\n"
     ]
    },
    {
     "name": "stdout",
     "output_type": "stream",
     "text": [
      "[02-20 13:00:44][INFO] i= 9 x: [[5.0256  1.95904]]\n",
      "[02-20 13:00:44][INFO] i= 10 x: [[5.04096 2.01024]]\n",
      "[02-20 13:00:44][INFO] i= 11 x: [[4.98976  2.016384]]\n",
      "[02-20 13:00:44][INFO] i= 12 x: [[4.983616 1.995904]]\n",
      "[02-20 13:00:44][INFO] i= 13 x: [[5.004096  1.9934464]]\n",
      "[02-20 13:00:44][INFO] i= 14 x: [[5.0065536 2.0016384]]\n",
      "[02-20 13:00:44][INFO] i= 15 x: [[4.9983616  2.00262144]]\n",
      "[02-20 13:00:44][INFO] i= 16 x: [[4.99737856 1.99934464]]\n",
      "[02-20 13:00:44][INFO] i= 17 x: [[5.00065536 1.99895142]]\n",
      "[02-20 13:00:44][INFO] i= 18 x: [[5.00104858 2.00026214]]\n",
      "[02-20 13:00:44][INFO] i= 19 x: [[4.99973786 2.00041943]]\n",
      "[02-20 13:00:44][INFO] i= 20 x: [[4.99958057 1.99989514]]\n",
      "[02-20 13:00:44][INFO] i= 21 x: [[5.00010486 1.99983223]]\n",
      "[02-20 13:00:44][INFO] i= 22 x: [[5.00016777 2.00004194]]\n",
      "[02-20 13:00:44][INFO] i= 23 x: [[4.99995806 2.00006711]]\n",
      "Solución con Gauss-Jacobi: [4.99993289]\n",
      "\n",
      "[02-20 13:00:44][INFO] i= 0 x: [[1. 1.]]\n",
      "[02-20 13:00:44][INFO] i= 1 x: [[6.  2.4]]\n",
      "[02-20 13:00:44][INFO] i= 2 x: [[4.6  1.84]]\n",
      "[02-20 13:00:44][INFO] i= 3 x: [[5.16  2.064]]\n",
      "[02-20 13:00:44][INFO] i= 4 x: [[4.936  1.9744]]\n",
      "[02-20 13:00:44][INFO] i= 5 x: [[5.0256  2.01024]]\n",
      "[02-20 13:00:44][INFO] i= 6 x: [[4.98976  1.995904]]\n",
      "[02-20 13:00:44][INFO] i= 7 x: [[5.004096  2.0016384]]\n",
      "[02-20 13:00:44][INFO] i= 8 x: [[4.9983616  1.99934464]]\n",
      "[02-20 13:00:44][INFO] i= 9 x: [[5.00065536 2.00026214]]\n",
      "[02-20 13:00:44][INFO] i= 10 x: [[4.99973786 1.99989514]]\n",
      "[02-20 13:00:44][INFO] i= 11 x: [[5.00010486 2.00004194]]\n",
      "[02-20 13:00:44][INFO] i= 12 x: [[4.99995806 1.99998322]]\n",
      "Solución con Gauss-Seidel: [5.00001678]\n"
     ]
    }
   ],
   "source": [
    "x1 = [1, 1]\n",
    "\n",
    "sol2, trayec2 = gauss_jacobi(A=A, b=b, x0=x1, tol=1e-4, max_iter=50)\n",
    "print(\"Solución con Gauss-Jacobi:\", sol2)\n",
    "print()\n",
    "sol3, trayec3 = gauss_seidel(A=A, b=b, x0=x1, tol=1e-4, max_iter=50)\n",
    "print(\"Solución con Gauss-Seidel:\", sol3)\n"
   ]
  },
  {
   "cell_type": "code",
   "execution_count": null,
   "metadata": {},
   "outputs": [],
   "source": []
  },
  {
   "cell_type": "code",
   "execution_count": null,
   "metadata": {},
   "outputs": [
    {
     "ename": "IndexError",
     "evalue": "too many indices for array: array is 0-dimensional, but 2 were indexed",
     "output_type": "error",
     "traceback": [
      "\u001b[1;31m---------------------------------------------------------------------------\u001b[0m",
      "\u001b[1;31mIndexError\u001b[0m                                Traceback (most recent call last)",
      "Cell \u001b[1;32mIn[40], line 7\u001b[0m\n\u001b[0;32m      5\u001b[0m array \u001b[38;5;241m=\u001b[39m np\u001b[38;5;241m.\u001b[39marray(trayec)\u001b[38;5;241m.\u001b[39msqueeze()\n\u001b[0;32m      6\u001b[0m plt\u001b[38;5;241m.\u001b[39mfigure(figsize\u001b[38;5;241m=\u001b[39m(\u001b[38;5;241m6\u001b[39m, \u001b[38;5;241m4\u001b[39m))\n\u001b[1;32m----> 7\u001b[0m plt\u001b[38;5;241m.\u001b[39mplot(\u001b[43marray\u001b[49m\u001b[43m[\u001b[49m\u001b[43m:\u001b[49m\u001b[43m,\u001b[49m\u001b[43m \u001b[49m\u001b[38;5;241;43m0\u001b[39;49m\u001b[43m]\u001b[49m, marker\u001b[38;5;241m=\u001b[39m\u001b[38;5;124m\"\u001b[39m\u001b[38;5;124mo\u001b[39m\u001b[38;5;124m\"\u001b[39m, linestyle\u001b[38;5;241m=\u001b[39m\u001b[38;5;124m\"\u001b[39m\u001b[38;5;124m-\u001b[39m\u001b[38;5;124m\"\u001b[39m, label\u001b[38;5;241m=\u001b[39m\u001b[38;5;124m\"\u001b[39m\u001b[38;5;124mTrayectoria Gauss-Jacobi\u001b[39m\u001b[38;5;124m\"\u001b[39m)\n\u001b[0;32m      8\u001b[0m plt\u001b[38;5;241m.\u001b[39mscatter(sol1[\u001b[38;5;241m0\u001b[39m], sol1[\u001b[38;5;241m1\u001b[39m], color\u001b[38;5;241m=\u001b[39m\u001b[38;5;124m\"\u001b[39m\u001b[38;5;124mred\u001b[39m\u001b[38;5;124m\"\u001b[39m, label\u001b[38;5;241m=\u001b[39m\u001b[38;5;124m\"\u001b[39m\u001b[38;5;124mSolución Gauss-Jacobi\u001b[39m\u001b[38;5;124m\"\u001b[39m, zorder\u001b[38;5;241m=\u001b[39m\u001b[38;5;241m5\u001b[39m)\n\u001b[0;32m     10\u001b[0m plt\u001b[38;5;241m.\u001b[39mtitle(\u001b[38;5;124m\"\u001b[39m\u001b[38;5;124mConvergencia de Métodos Iterativos\u001b[39m\u001b[38;5;124m\"\u001b[39m)\n",
      "\u001b[1;31mIndexError\u001b[0m: too many indices for array: array is 0-dimensional, but 2 were indexed"
     ]
    },
    {
     "data": {
      "text/plain": [
       "<Figure size 600x400 with 0 Axes>"
      ]
     },
     "metadata": {},
     "output_type": "display_data"
    }
   ],
   "source": [
    "# Graficar la trayectoria\n",
    "import numpy as np\n",
    "import matplotlib.pyplot as plt\n",
    "\n",
    "array = np.array(trayec).squeeze()\n",
    "#plt.figure(figsize=(6, 4))\n",
    "plt.plot(array[:, 0], marker=\"o\", linestyle=\"-\", label=\"Trayectoria Gauss-Jacobi\")\n",
    "plt.scatter(sol1[0], sol1[1], color=\"red\", label=\"Solución Gauss-Jacobi\", zorder=5)\n",
    "\n",
    "plt.title(\"Convergencia de Métodos Iterativos\")\n",
    "plt.xlabel(\"x1\")\n",
    "plt.ylabel(\"x2\")\n",
    "plt.legend()\n",
    "plt.grid()\n",
    "plt.show()"
   ]
  },
  {
   "cell_type": "code",
   "execution_count": 24,
   "metadata": {},
   "outputs": [
    {
     "data": {
      "image/png": "[encoded data removed]",
      "text/plain": [
       "<Figure size 640x480 with 1 Axes>"
      ]
     },
     "metadata": {},
     "output_type": "display_data"
    }
   ],
   "source": [
    "import matplotlib.pyplot as plt\n",
    "\n",
    "# Graficar la trayectoria\n",
    "plt.plot(trayec, marker='o')\n",
    "plt.title('Trayectoria de la solución')\n",
    "plt.xlabel('Iteraciones')\n",
    "plt.ylabel('Valor de la solución')\n",
    "plt.grid(True)\n",
    "plt.show()"
   ]
  },
  {
   "cell_type": "markdown",
   "metadata": {},
   "source": [
    "## Parte 2"
   ]
  },
  {
   "cell_type": "code",
   "execution_count": 8,
   "metadata": {},
   "outputs": [],
   "source": [
    "B = [[1, 1],\n",
    "     [-2, 1]]\n",
    "c = [6, 0]"
   ]
  },
  {
   "cell_type": "code",
   "execution_count": null,
   "metadata": {},
   "outputs": [],
   "source": []
  }
 ],
 "metadata": {
  "kernelspec": {
   "display_name": "Python 3",
   "language": "python",
   "name": "python3"
  },
  "language_info": {
   "codemirror_mode": {
    "name": "ipython",
    "version": 3
   },
   "file_extension": ".py",
   "mimetype": "text/x-python",
   "name": "python",
   "nbconvert_exporter": "python",
   "pygments_lexer": "ipython3",
   "version": "3.13.0"
  }
 },
 "nbformat": 4,
 "nbformat_minor": 2
}
